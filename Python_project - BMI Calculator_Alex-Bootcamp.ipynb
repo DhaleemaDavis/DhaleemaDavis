{
 "cells": [
  {
   "cell_type": "markdown",
   "id": "b08a219f-6f33-4813-8874-c7c625daa84a",
   "metadata": {},
   "source": [
    "# BMI Calculator Project\n",
    "https://www.nhlbi.nih.gov/health/educational/lose_wt/BMI/bmicalc.htm"
   ]
  },
  {
   "cell_type": "code",
   "execution_count": 1,
   "id": "dd5b7a9a-be3c-4212-b6fc-55cd5c9ff856",
   "metadata": {},
   "outputs": [],
   "source": [
    "# BMI = (weight in kg) / (height in meter x height in meter)"
   ]
  },
  {
   "cell_type": "code",
   "execution_count": 18,
   "id": "9353bdf3-ca71-44a9-9f3b-47f3edb1a9a4",
   "metadata": {},
   "outputs": [
    {
     "name": "stdin",
     "output_type": "stream",
     "text": [
      " Please enter you name :  ll\n",
      " Weight 'in kgs'       =  6\n",
      " Height 'in m' =  1\n"
     ]
    },
    {
     "name": "stdout",
     "output_type": "stream",
     "text": [
      "BMI =  6.0\n",
      "ll, you are underweight  :(\n"
     ]
    }
   ],
   "source": [
    "Name = input(\" Please enter you name : \")\n",
    "Weight = float(input(\" Weight 'in kgs'       = \"))\n",
    "Height = float(input(\" Height 'in m' = \"))\n",
    "BMI = (Weight) / (Height*Height)\n",
    "print(\"BMI = \",BMI)\n",
    "if BMI>0:\n",
    "    if BMI<18.5:\n",
    "        print(Name+\", you are underweight  :(\")\n",
    "    elif BMI<24.9:\n",
    "        print(Name+\", you are normal weight, keep it up :)\")\n",
    "    elif BMI<29.9:\n",
    "        print(Name+\", you are overweight\")\n",
    "    elif BMI<34.9:\n",
    "        print(Name+\", you are Obese\")\n",
    "    elif BMI<39.9:\n",
    "        print(Name+\", you are overly obese, please take health seriously :|\")\n",
    "    else:\n",
    "        print(Name+\", you are extremely obese, please consult and doctor :(\")\n",
    "else:\n",
    "    print('please enter valid values')"
   ]
  },
  {
   "cell_type": "raw",
   "id": "f83f80a3-4aef-46ff-931c-1b7a6a30d5bc",
   "metadata": {},
   "source": [
    "\n",
    "BMI Categories:\n",
    "\n",
    "Underweight = <18.5\n",
    "Normal weight = 18.5–24.9\n",
    "Overweight = 25–29.9\n",
    "Obesity = 30-34.9\n",
    "Overly Obese = 35-39.9\n",
    "Extremely Obese =>40"
   ]
  },
  {
   "cell_type": "code",
   "execution_count": null,
   "id": "7676f5cb-5533-43c8-a2d2-eddb2bc3bf76",
   "metadata": {},
   "outputs": [],
   "source": []
  },
  {
   "cell_type": "code",
   "execution_count": null,
   "id": "17b92791-9139-4845-bcfe-58ecc11f6a2a",
   "metadata": {},
   "outputs": [],
   "source": []
  }
 ],
 "metadata": {
  "kernelspec": {
   "display_name": "Python 3 (ipykernel)",
   "language": "python",
   "name": "python3"
  },
  "language_info": {
   "codemirror_mode": {
    "name": "ipython",
    "version": 3
   },
   "file_extension": ".py",
   "mimetype": "text/x-python",
   "name": "python",
   "nbconvert_exporter": "python",
   "pygments_lexer": "ipython3",
   "version": "3.11.7"
  }
 },
 "nbformat": 4,
 "nbformat_minor": 5
}
